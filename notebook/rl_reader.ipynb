{
 "cells": [
  {
   "cell_type": "code",
   "execution_count": 1,
   "metadata": {
    "collapsed": false
   },
   "outputs": [],
   "source": [
    "%matplotlib inline\n",
    "import pandas as pd\n",
    "import numpy as np\n",
    "import matplotlib.pyplot as plt\n",
    "import seaborn\n",
    "import csv\n",
    "import logging\n",
    "log = logging.getLogger()\n",
    "log.setLevel(logging.DEBUG)\n",
    "\n",
    "pd.options.display.max_rows = 1000\n",
    "\n",
    "\n",
    "files = ['obama']"
   ]
  },
  {
   "cell_type": "code",
   "execution_count": 2,
   "metadata": {
    "collapsed": false
   },
   "outputs": [],
   "source": [
    "def rl_parse():\n",
    "    data = {}\n",
    "    for file in files:\n",
    "        log.info(\"parsing file: ../data/{}-openie.e2rdf\".format(file))\n",
    "        my_cols = [\"Confidence\", \"Context\", \"Subject\", \"Predicate\", \"Object\", \"Other_arg\", \"Temporal\", \"Spatial\", \"Sentence_id\", \"Sentence\"]\n",
    "        values = pd.read_csv(\"../data/{}-openie.e2rdf\".format(file), names=my_cols, sep='\\t', quoting=csv.QUOTE_NONE)\n",
    "        values.drop(values.columns[[0, 1, 8]], axis=1, inplace=True)\n",
    "        data[file] = values\n",
    "    return data"
   ]
  },
  {
   "cell_type": "code",
   "execution_count": 3,
   "metadata": {
    "collapsed": false
   },
   "outputs": [
    {
     "name": "stderr",
     "output_type": "stream",
     "text": [
      "INFO:root:parsing file: ../data/obama-openie.e2rdf\n"
     ]
    }
   ],
   "source": [
    "data = rl_parse()"
   ]
  },
  {
   "cell_type": "code",
   "execution_count": null,
   "metadata": {
    "collapsed": false,
    "scrolled": false
   },
   "outputs": [],
   "source": [
    "data['obama']"
   ]
  },
  {
   "cell_type": "code",
   "execution_count": null,
   "metadata": {
    "collapsed": true
   },
   "outputs": [],
   "source": []
  }
 ],
 "metadata": {
  "kernelspec": {
   "display_name": "Python 3",
   "language": "python",
   "name": "python3"
  },
  "language_info": {
   "codemirror_mode": {
    "name": "ipython",
    "version": 3
   },
   "file_extension": ".py",
   "mimetype": "text/x-python",
   "name": "python",
   "nbconvert_exporter": "python",
   "pygments_lexer": "ipython3",
   "version": "3.4.0"
  }
 },
 "nbformat": 4,
 "nbformat_minor": 0
}
